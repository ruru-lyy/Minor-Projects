{
 "cells": [
  {
   "cell_type": "markdown",
   "id": "5a67a4af",
   "metadata": {},
   "source": [
    "This program uses LSTM Long short term memory to predict the closing stock price using the past 60 days stock prices"
   ]
  },
  {
   "cell_type": "code",
   "execution_count": 4,
   "id": "1bd0b13e",
   "metadata": {},
   "outputs": [
    {
     "name": "stdout",
     "output_type": "stream",
     "text": [
      "Collecting pandas-datareader\n",
      "  Downloading pandas_datareader-0.10.0-py3-none-any.whl (109 kB)\n",
      "Requirement already satisfied: lxml in d:\\rurusanaconda\\lib\\site-packages (from pandas-datareader) (4.6.3)\n",
      "Requirement already satisfied: requests>=2.19.0 in d:\\rurusanaconda\\lib\\site-packages (from pandas-datareader) (2.25.1)\n",
      "Requirement already satisfied: pandas>=0.23 in d:\\rurusanaconda\\lib\\site-packages (from pandas-datareader) (1.2.4)\n",
      "Requirement already satisfied: pytz>=2017.3 in d:\\rurusanaconda\\lib\\site-packages (from pandas>=0.23->pandas-datareader) (2021.1)\n",
      "Requirement already satisfied: python-dateutil>=2.7.3 in d:\\rurusanaconda\\lib\\site-packages (from pandas>=0.23->pandas-datareader) (2.8.1)\n",
      "Requirement already satisfied: numpy>=1.16.5 in d:\\rurusanaconda\\lib\\site-packages (from pandas>=0.23->pandas-datareader) (1.20.1)\n",
      "Requirement already satisfied: six>=1.5 in d:\\rurusanaconda\\lib\\site-packages (from python-dateutil>=2.7.3->pandas>=0.23->pandas-datareader) (1.15.0)\n",
      "Requirement already satisfied: idna<3,>=2.5 in d:\\rurusanaconda\\lib\\site-packages (from requests>=2.19.0->pandas-datareader) (2.10)\n",
      "Requirement already satisfied: certifi>=2017.4.17 in d:\\rurusanaconda\\lib\\site-packages (from requests>=2.19.0->pandas-datareader) (2020.12.5)\n",
      "Requirement already satisfied: urllib3<1.27,>=1.21.1 in d:\\rurusanaconda\\lib\\site-packages (from requests>=2.19.0->pandas-datareader) (1.26.4)\n",
      "Requirement already satisfied: chardet<5,>=3.0.2 in d:\\rurusanaconda\\lib\\site-packages (from requests>=2.19.0->pandas-datareader) (4.0.0)\n",
      "Installing collected packages: pandas-datareader\n",
      "Successfully installed pandas-datareader-0.10.0\n",
      "Note: you may need to restart the kernel to use updated packages.\n"
     ]
    }
   ],
   "source": [
    "pip install pandas-datareader"
   ]
  },
  {
   "cell_type": "code",
   "execution_count": 6,
   "id": "cf2473ed",
   "metadata": {},
   "outputs": [],
   "source": [
    "import pandas_datareader as pdr\n",
    "import os"
   ]
  },
  {
   "cell_type": "code",
   "execution_count": 7,
   "id": "f29b5b27",
   "metadata": {},
   "outputs": [],
   "source": [
    "os.chdir('D:\\\\Abroad\\\\Corizo')"
   ]
  },
  {
   "cell_type": "code",
   "execution_count": 10,
   "id": "82afff01",
   "metadata": {},
   "outputs": [
    {
     "name": "stdout",
     "output_type": "stream",
     "text": [
      "Collecting keras\n",
      "  Downloading keras-2.10.0-py2.py3-none-any.whl (1.7 MB)\n",
      "Installing collected packages: keras\n",
      "Successfully installed keras-2.10.0\n",
      "Collecting tensorflow\n",
      "  Downloading tensorflow-2.10.0-cp38-cp38-win_amd64.whl (455.9 MB)\n",
      "Requirement already satisfied: six>=1.12.0 in d:\\rurusanaconda\\lib\\site-packages (from tensorflow) (1.15.0)\n",
      "Collecting termcolor>=1.1.0\n",
      "  Downloading termcolor-2.0.1-py3-none-any.whl (5.4 kB)\n",
      "Collecting keras-preprocessing>=1.1.1\n",
      "  Downloading Keras_Preprocessing-1.1.2-py2.py3-none-any.whl (42 kB)\n",
      "Collecting flatbuffers>=2.0\n",
      "  Downloading flatbuffers-22.9.24-py2.py3-none-any.whl (26 kB)\n",
      "Collecting tensorflow-io-gcs-filesystem>=0.23.1\n",
      "  Downloading tensorflow_io_gcs_filesystem-0.27.0-cp38-cp38-win_amd64.whl (1.5 MB)\n",
      "Requirement already satisfied: typing-extensions>=3.6.6 in d:\\rurusanaconda\\lib\\site-packages (from tensorflow) (3.7.4.3)\n",
      "Collecting absl-py>=1.0.0\n",
      "  Downloading absl_py-1.3.0-py3-none-any.whl (124 kB)\n",
      "Requirement already satisfied: numpy>=1.20 in d:\\rurusanaconda\\lib\\site-packages (from tensorflow) (1.20.1)\n",
      "Requirement already satisfied: keras<2.11,>=2.10.0 in d:\\rurusanaconda\\lib\\site-packages (from tensorflow) (2.10.0)\n",
      "Collecting astunparse>=1.6.0\n",
      "  Downloading astunparse-1.6.3-py2.py3-none-any.whl (12 kB)\n",
      "Collecting gast<=0.4.0,>=0.2.1\n",
      "  Downloading gast-0.4.0-py3-none-any.whl (9.8 kB)\n",
      "Collecting libclang>=13.0.0\n",
      "  Downloading libclang-14.0.6-py2.py3-none-win_amd64.whl (14.2 MB)\n",
      "Collecting tensorboard<2.11,>=2.10\n",
      "  Downloading tensorboard-2.10.1-py3-none-any.whl (5.9 MB)\n",
      "Collecting tensorflow-estimator<2.11,>=2.10.0\n",
      "  Downloading tensorflow_estimator-2.10.0-py2.py3-none-any.whl (438 kB)\n",
      "Collecting protobuf<3.20,>=3.9.2\n",
      "  Downloading protobuf-3.19.6-cp38-cp38-win_amd64.whl (896 kB)\n",
      "Requirement already satisfied: setuptools in d:\\rurusanaconda\\lib\\site-packages (from tensorflow) (52.0.0.post20210125)\n",
      "Requirement already satisfied: h5py>=2.9.0 in d:\\rurusanaconda\\lib\\site-packages (from tensorflow) (2.10.0)\n",
      "Requirement already satisfied: packaging in d:\\rurusanaconda\\lib\\site-packages (from tensorflow) (20.9)\n",
      "Collecting grpcio<2.0,>=1.24.3\n",
      "  Downloading grpcio-1.49.1-cp38-cp38-win_amd64.whl (3.6 MB)\n",
      "Collecting opt-einsum>=2.3.2\n",
      "  Downloading opt_einsum-3.3.0-py3-none-any.whl (65 kB)\n",
      "Requirement already satisfied: wrapt>=1.11.0 in d:\\rurusanaconda\\lib\\site-packages (from tensorflow) (1.12.1)\n",
      "Collecting google-pasta>=0.1.1\n",
      "  Downloading google_pasta-0.2.0-py3-none-any.whl (57 kB)\n",
      "Requirement already satisfied: wheel<1.0,>=0.23.0 in d:\\rurusanaconda\\lib\\site-packages (from astunparse>=1.6.0->tensorflow) (0.36.2)\n",
      "Requirement already satisfied: requests<3,>=2.21.0 in d:\\rurusanaconda\\lib\\site-packages (from tensorboard<2.11,>=2.10->tensorflow) (2.25.1)\n",
      "Collecting google-auth-oauthlib<0.5,>=0.4.1\n",
      "  Downloading google_auth_oauthlib-0.4.6-py2.py3-none-any.whl (18 kB)\n",
      "Requirement already satisfied: werkzeug>=1.0.1 in d:\\rurusanaconda\\lib\\site-packages (from tensorboard<2.11,>=2.10->tensorflow) (1.0.1)\n",
      "Collecting google-auth<3,>=1.6.3\n",
      "  Downloading google_auth-2.12.0-py2.py3-none-any.whl (169 kB)\n",
      "Collecting tensorboard-data-server<0.7.0,>=0.6.0\n",
      "  Downloading tensorboard_data_server-0.6.1-py3-none-any.whl (2.4 kB)\n",
      "Collecting tensorboard-plugin-wit>=1.6.0\n",
      "  Downloading tensorboard_plugin_wit-1.8.1-py3-none-any.whl (781 kB)\n",
      "Collecting markdown>=2.6.8\n",
      "  Downloading Markdown-3.4.1-py3-none-any.whl (93 kB)\n",
      "Collecting cachetools<6.0,>=2.0.0\n",
      "  Downloading cachetools-5.2.0-py3-none-any.whl (9.3 kB)\n",
      "Collecting rsa<5,>=3.1.4\n",
      "  Downloading rsa-4.9-py3-none-any.whl (34 kB)\n",
      "Collecting pyasn1-modules>=0.2.1\n",
      "  Downloading pyasn1_modules-0.2.8-py2.py3-none-any.whl (155 kB)\n",
      "Collecting requests-oauthlib>=0.7.0\n",
      "  Downloading requests_oauthlib-1.3.1-py2.py3-none-any.whl (23 kB)\n",
      "Collecting importlib-metadata>=4.4\n",
      "  Downloading importlib_metadata-5.0.0-py3-none-any.whl (21 kB)\n",
      "Requirement already satisfied: zipp>=0.5 in d:\\rurusanaconda\\lib\\site-packages (from importlib-metadata>=4.4->markdown>=2.6.8->tensorboard<2.11,>=2.10->tensorflow) (3.4.1)\n",
      "Collecting pyasn1<0.5.0,>=0.4.6\n",
      "  Downloading pyasn1-0.4.8-py2.py3-none-any.whl (77 kB)\n",
      "Requirement already satisfied: chardet<5,>=3.0.2 in d:\\rurusanaconda\\lib\\site-packages (from requests<3,>=2.21.0->tensorboard<2.11,>=2.10->tensorflow) (4.0.0)\n",
      "Requirement already satisfied: urllib3<1.27,>=1.21.1 in d:\\rurusanaconda\\lib\\site-packages (from requests<3,>=2.21.0->tensorboard<2.11,>=2.10->tensorflow) (1.26.4)\n",
      "Requirement already satisfied: certifi>=2017.4.17 in d:\\rurusanaconda\\lib\\site-packages (from requests<3,>=2.21.0->tensorboard<2.11,>=2.10->tensorflow) (2020.12.5)\n",
      "Requirement already satisfied: idna<3,>=2.5 in d:\\rurusanaconda\\lib\\site-packages (from requests<3,>=2.21.0->tensorboard<2.11,>=2.10->tensorflow) (2.10)\n",
      "Collecting oauthlib>=3.0.0\n",
      "  Downloading oauthlib-3.2.1-py3-none-any.whl (151 kB)\n",
      "Requirement already satisfied: pyparsing>=2.0.2 in d:\\rurusanaconda\\lib\\site-packages (from packaging->tensorflow) (2.4.7)\n",
      "Installing collected packages: pyasn1, rsa, pyasn1-modules, oauthlib, cachetools, requests-oauthlib, importlib-metadata, google-auth, tensorboard-plugin-wit, tensorboard-data-server, protobuf, markdown, grpcio, google-auth-oauthlib, absl-py, termcolor, tensorflow-io-gcs-filesystem, tensorflow-estimator, tensorboard, opt-einsum, libclang, keras-preprocessing, google-pasta, gast, flatbuffers, astunparse, tensorflow\n",
      "  Attempting uninstall: importlib-metadata\n",
      "    Found existing installation: importlib-metadata 3.10.0\n",
      "    Uninstalling importlib-metadata-3.10.0:\n",
      "      Successfully uninstalled importlib-metadata-3.10.0\n",
      "Successfully installed absl-py-1.3.0 astunparse-1.6.3 cachetools-5.2.0 flatbuffers-22.9.24 gast-0.4.0 google-auth-2.12.0 google-auth-oauthlib-0.4.6 google-pasta-0.2.0 grpcio-1.49.1 importlib-metadata-5.0.0 keras-preprocessing-1.1.2 libclang-14.0.6 markdown-3.4.1 oauthlib-3.2.1 opt-einsum-3.3.0 protobuf-3.19.6 pyasn1-0.4.8 pyasn1-modules-0.2.8 requests-oauthlib-1.3.1 rsa-4.9 tensorboard-2.10.1 tensorboard-data-server-0.6.1 tensorboard-plugin-wit-1.8.1 tensorflow-2.10.0 tensorflow-estimator-2.10.0 tensorflow-io-gcs-filesystem-0.27.0 termcolor-2.0.1\n"
     ]
    }
   ],
   "source": [
    "!pip install keras\n",
    "!pip install tensorflow"
   ]
  },
  {
   "cell_type": "code",
   "execution_count": 11,
   "id": "eea0b78e",
   "metadata": {},
   "outputs": [],
   "source": [
    "import math\n",
    "import pandas as pd\n",
    "import numpy as np\n",
    "import seaborn as sns\n",
    "from sklearn.preprocessing import MinMaxScaler\n",
    "from keras.models import Sequential\n",
    "from keras.layers import Dense,LSTM\n",
    "import matplotlib.pyplot as plt\n",
    "plt.style.use('fivethirtyeight')"
   ]
  },
  {
   "cell_type": "code",
   "execution_count": 13,
   "id": "bb5b20b3",
   "metadata": {},
   "outputs": [
    {
     "data": {
      "text/html": [
       "<div>\n",
       "<style scoped>\n",
       "    .dataframe tbody tr th:only-of-type {\n",
       "        vertical-align: middle;\n",
       "    }\n",
       "\n",
       "    .dataframe tbody tr th {\n",
       "        vertical-align: top;\n",
       "    }\n",
       "\n",
       "    .dataframe thead th {\n",
       "        text-align: right;\n",
       "    }\n",
       "</style>\n",
       "<table border=\"1\" class=\"dataframe\">\n",
       "  <thead>\n",
       "    <tr style=\"text-align: right;\">\n",
       "      <th></th>\n",
       "      <th>Date</th>\n",
       "      <th>Open</th>\n",
       "      <th>High</th>\n",
       "      <th>Low</th>\n",
       "      <th>Close</th>\n",
       "      <th>Adj Close</th>\n",
       "      <th>Volume</th>\n",
       "    </tr>\n",
       "  </thead>\n",
       "  <tbody>\n",
       "    <tr>\n",
       "      <th>0</th>\n",
       "      <td>2018-02-05</td>\n",
       "      <td>262.000000</td>\n",
       "      <td>267.899994</td>\n",
       "      <td>250.029999</td>\n",
       "      <td>254.259995</td>\n",
       "      <td>254.259995</td>\n",
       "      <td>11896100</td>\n",
       "    </tr>\n",
       "    <tr>\n",
       "      <th>1</th>\n",
       "      <td>2018-02-06</td>\n",
       "      <td>247.699997</td>\n",
       "      <td>266.700012</td>\n",
       "      <td>245.000000</td>\n",
       "      <td>265.720001</td>\n",
       "      <td>265.720001</td>\n",
       "      <td>12595800</td>\n",
       "    </tr>\n",
       "    <tr>\n",
       "      <th>2</th>\n",
       "      <td>2018-02-07</td>\n",
       "      <td>266.579987</td>\n",
       "      <td>272.450012</td>\n",
       "      <td>264.329987</td>\n",
       "      <td>264.559998</td>\n",
       "      <td>264.559998</td>\n",
       "      <td>8981500</td>\n",
       "    </tr>\n",
       "    <tr>\n",
       "      <th>3</th>\n",
       "      <td>2018-02-08</td>\n",
       "      <td>267.079987</td>\n",
       "      <td>267.619995</td>\n",
       "      <td>250.000000</td>\n",
       "      <td>250.100006</td>\n",
       "      <td>250.100006</td>\n",
       "      <td>9306700</td>\n",
       "    </tr>\n",
       "    <tr>\n",
       "      <th>4</th>\n",
       "      <td>2018-02-09</td>\n",
       "      <td>253.850006</td>\n",
       "      <td>255.800003</td>\n",
       "      <td>236.110001</td>\n",
       "      <td>249.470001</td>\n",
       "      <td>249.470001</td>\n",
       "      <td>16906900</td>\n",
       "    </tr>\n",
       "  </tbody>\n",
       "</table>\n",
       "</div>"
      ],
      "text/plain": [
       "         Date        Open        High         Low       Close   Adj Close  \\\n",
       "0  2018-02-05  262.000000  267.899994  250.029999  254.259995  254.259995   \n",
       "1  2018-02-06  247.699997  266.700012  245.000000  265.720001  265.720001   \n",
       "2  2018-02-07  266.579987  272.450012  264.329987  264.559998  264.559998   \n",
       "3  2018-02-08  267.079987  267.619995  250.000000  250.100006  250.100006   \n",
       "4  2018-02-09  253.850006  255.800003  236.110001  249.470001  249.470001   \n",
       "\n",
       "     Volume  \n",
       "0  11896100  \n",
       "1  12595800  \n",
       "2   8981500  \n",
       "3   9306700  \n",
       "4  16906900  "
      ]
     },
     "execution_count": 13,
     "metadata": {},
     "output_type": "execute_result"
    }
   ],
   "source": [
    "df=pd.read_csv('1613615-Stock_Price_data_set.csv')\n",
    "df.head()"
   ]
  },
  {
   "cell_type": "code",
   "execution_count": 14,
   "id": "d51a220d",
   "metadata": {},
   "outputs": [
    {
     "data": {
      "text/plain": [
       "(1009, 7)"
      ]
     },
     "execution_count": 14,
     "metadata": {},
     "output_type": "execute_result"
    }
   ],
   "source": [
    "df.shape"
   ]
  },
  {
   "cell_type": "code",
   "execution_count": 16,
   "id": "e3f16d12",
   "metadata": {},
   "outputs": [
    {
     "data": {
      "image/png": "[encoded data removed]",
      "text/plain": [
       "<Figure size 1152x576 with 1 Axes>"
      ]
     },
     "metadata": {},
     "output_type": "display_data"
    }
   ],
   "source": [
    "plt.figure(figsize=(16,8))\n",
    "plt.title('Close price history')\n",
    "plt.plot(df['Close'])\n",
    "plt.xlabel('date')\n",
    "plt.ylabel('close price ')\n",
    "plt.show()\n"
   ]
  },
  {
   "cell_type": "code",
   "execution_count": 17,
   "id": "97d19105",
   "metadata": {},
   "outputs": [],
   "source": [
    "#create a new dataframe with only the close column\n",
    "data=df.filter(['Close'])"
   ]
  },
  {
   "cell_type": "code",
   "execution_count": 18,
   "id": "0e8385ed",
   "metadata": {},
   "outputs": [],
   "source": [
    "#convert the dataframe into numpy arry\n",
    "dataset=data.values"
   ]
  },
  {
   "cell_type": "code",
   "execution_count": 20,
   "id": "0fdbc2c8",
   "metadata": {},
   "outputs": [
    {
     "data": {
      "text/plain": [
       "808"
      ]
     },
     "execution_count": 20,
     "metadata": {},
     "output_type": "execute_result"
    }
   ],
   "source": [
    "#get the number of rows to train the model\n",
    "training_data_len=math.ceil(len(dataset)*0.8)\n",
    "training_data_len"
   ]
  },
  {
   "cell_type": "code",
   "execution_count": 21,
   "id": "b22a9c37",
   "metadata": {},
   "outputs": [
    {
     "data": {
      "text/plain": [
       "array([[0.04451626],\n",
       "       [0.06954849],\n",
       "       [0.06701469],\n",
       "       ...,\n",
       "       [0.4272515 ],\n",
       "       [0.37509011],\n",
       "       [0.38507243]])"
      ]
     },
     "execution_count": 21,
     "metadata": {},
     "output_type": "execute_result"
    }
   ],
   "source": [
    "#scale the data\n",
    "scaler=MinMaxScaler(feature_range=(0,1))\n",
    "scaled_data=scaler.fit_transform(dataset)\n",
    "scaled_data"
   ]
  },
  {
   "cell_type": "code",
   "execution_count": 22,
   "id": "3e3fad36",
   "metadata": {},
   "outputs": [
    {
     "name": "stdout",
     "output_type": "stream",
     "text": [
      "[array([0.04451626, 0.06954849, 0.06701469, 0.03542955, 0.03405342,\n",
      "       0.05257641, 0.05327534, 0.0701601 , 0.10133021, 0.09750767,\n",
      "       0.09757319, 0.10301218, 0.09667768, 0.11369343, 0.13167034,\n",
      "       0.12391599, 0.12559796, 0.12343551, 0.14672022, 0.1771914 ,\n",
      "       0.19951508, 0.19064677, 0.18156003, 0.2131015 , 0.19095254,\n",
      "       0.17911361, 0.19149862, 0.19049385, 0.18472731, 0.17387127,\n",
      "       0.18265218, 0.18042421, 0.15906164, 0.14647998, 0.18887749,\n",
      "       0.1459339 , 0.11334393, 0.13426968, 0.10137394, 0.10875693,\n",
      "       0.12026823, 0.13125532, 0.12007165, 0.12243068, 0.14021101,\n",
      "       0.15244317, 0.16463161, 0.16987394, 0.16142066, 0.22319301,\n",
      "       0.21982915, 0.21585376, 0.20508505, 0.18525152, 0.15976057,\n",
      "       0.15700838, 0.17496343, 0.17011425, 0.17164323, 0.17347804])]\n",
      "[0.17360909661393864]\n",
      "\n",
      "[array([0.04451626, 0.06954849, 0.06701469, 0.03542955, 0.03405342,\n",
      "       0.05257641, 0.05327534, 0.0701601 , 0.10133021, 0.09750767,\n",
      "       0.09757319, 0.10301218, 0.09667768, 0.11369343, 0.13167034,\n",
      "       0.12391599, 0.12559796, 0.12343551, 0.14672022, 0.1771914 ,\n",
      "       0.19951508, 0.19064677, 0.18156003, 0.2131015 , 0.19095254,\n",
      "       0.17911361, 0.19149862, 0.19049385, 0.18472731, 0.17387127,\n",
      "       0.18265218, 0.18042421, 0.15906164, 0.14647998, 0.18887749,\n",
      "       0.1459339 , 0.11334393, 0.13426968, 0.10137394, 0.10875693,\n",
      "       0.12026823, 0.13125532, 0.12007165, 0.12243068, 0.14021101,\n",
      "       0.15244317, 0.16463161, 0.16987394, 0.16142066, 0.22319301,\n",
      "       0.21982915, 0.21585376, 0.20508505, 0.18525152, 0.15976057,\n",
      "       0.15700838, 0.17496343, 0.17011425, 0.17164323, 0.17347804]), array([0.06954849, 0.06701469, 0.03542955, 0.03405342, 0.05257641,\n",
      "       0.05327534, 0.0701601 , 0.10133021, 0.09750767, 0.09757319,\n",
      "       0.10301218, 0.09667768, 0.11369343, 0.13167034, 0.12391599,\n",
      "       0.12559796, 0.12343551, 0.14672022, 0.1771914 , 0.19951508,\n",
      "       0.19064677, 0.18156003, 0.2131015 , 0.19095254, 0.17911361,\n",
      "       0.19149862, 0.19049385, 0.18472731, 0.17387127, 0.18265218,\n",
      "       0.18042421, 0.15906164, 0.14647998, 0.18887749, 0.1459339 ,\n",
      "       0.11334393, 0.13426968, 0.10137394, 0.10875693, 0.12026823,\n",
      "       0.13125532, 0.12007165, 0.12243068, 0.14021101, 0.15244317,\n",
      "       0.16463161, 0.16987394, 0.16142066, 0.22319301, 0.21982915,\n",
      "       0.21585376, 0.20508505, 0.18525152, 0.15976057, 0.15700838,\n",
      "       0.17496343, 0.17011425, 0.17164323, 0.17347804, 0.1736091 ])]\n",
      "[0.17360909661393864, 0.16996133223364263]\n",
      "\n"
     ]
    }
   ],
   "source": [
    "#create the training data set\n",
    "#create the scaled training data set\n",
    "train_data=scaled_data[0:training_data_len,:]\n",
    "#split the data into x_train and y_train data sets\n",
    "x_train=[]\n",
    "y_train=[]\n",
    "\n",
    "for i in range (60,len(train_data)):\n",
    "    x_train.append(train_data[i-60:i,0])\n",
    "    y_train.append(train_data[i,0])\n",
    "    if i<=61:\n",
    "        print(x_train)\n",
    "        print(y_train)\n",
    "        print()"
   ]
  },
  {
   "cell_type": "code",
   "execution_count": 23,
   "id": "d26b6896",
   "metadata": {},
   "outputs": [],
   "source": [
    "#convert the x_train and y_train to numpy arrays\n",
    "x_train,y_train=np.array(x_train),np.array(y_train)"
   ]
  },
  {
   "cell_type": "code",
   "execution_count": 24,
   "id": "f267f8f7",
   "metadata": {},
   "outputs": [
    {
     "data": {
      "text/plain": [
       "(748, 60, 1)"
      ]
     },
     "execution_count": 24,
     "metadata": {},
     "output_type": "execute_result"
    }
   ],
   "source": [
    "#reshape the data\n",
    "x_train=np.reshape(x_train,(x_train.shape[0],x_train.shape[1],1))\n",
    "x_train.shape"
   ]
  },
  {
   "cell_type": "code",
   "execution_count": 25,
   "id": "9ca57d61",
   "metadata": {},
   "outputs": [],
   "source": [
    "#build the LSTM model\n",
    "model=Sequential()\n",
    "model.add(LSTM(50,return_sequences=True,input_shape=(x_train.shape[1],1)))\n",
    "model.add(LSTM(50,return_sequences=False))\n",
    "model.add(Dense(25))\n",
    "model.add(Dense(1))"
   ]
  },
  {
   "cell_type": "code",
   "execution_count": 26,
   "id": "076125af",
   "metadata": {},
   "outputs": [],
   "source": [
    "#compile the model\n",
    "model.compile(optimizer='adam',loss='mean_squared_error')"
   ]
  },
  {
   "cell_type": "code",
   "execution_count": 27,
   "id": "536beaa4",
   "metadata": {},
   "outputs": [
    {
     "name": "stdout",
     "output_type": "stream",
     "text": [
      "748/748 [==============================] - 21s 24ms/step - loss: 0.0037\n"
     ]
    },
    {
     "data": {
      "text/plain": [
       "<keras.callbacks.History at 0x2147c286520>"
      ]
     },
     "execution_count": 27,
     "metadata": {},
     "output_type": "execute_result"
    }
   ],
   "source": [
    "#train the model\n",
    "model.fit(x_train,y_train,batch_size=1,epochs=1)"
   ]
  },
  {
   "cell_type": "code",
   "execution_count": 28,
   "id": "381f53d8",
   "metadata": {},
   "outputs": [],
   "source": [
    "#create the testing data set\n",
    "#create the new array containing scaled values from index \n",
    "test_data=scaled_data[training_data_len-60:,:]\n",
    "#create the data set x_test and y_test\n",
    "x_test=[]\n",
    "y_test=dataset[training_data_len:, :]\n",
    "for i in range (60,len(test_data)):\n",
    "    x_test.append(test_data[i-60:i,0])"
   ]
  },
  {
   "cell_type": "code",
   "execution_count": 29,
   "id": "76251bd6",
   "metadata": {},
   "outputs": [],
   "source": [
    "#convert data into numpy\n",
    "x_test=np.array(x_test)"
   ]
  },
  {
   "cell_type": "code",
   "execution_count": 30,
   "id": "4df6ac2a",
   "metadata": {},
   "outputs": [],
   "source": [
    "#reshape the data\n",
    "x_test=np.reshape(x_test,(x_test.shape[0],x_test.shape[1],1))"
   ]
  },
  {
   "cell_type": "code",
   "execution_count": 31,
   "id": "01ecbaf6",
   "metadata": {},
   "outputs": [
    {
     "name": "stdout",
     "output_type": "stream",
     "text": [
      "7/7 [==============================] - 1s 17ms/step\n"
     ]
    },
    {
     "data": {
      "text/plain": [
       "array([[576.1169 ],\n",
       "       [569.7405 ],\n",
       "       [562.85187],\n",
       "       [557.08624],\n",
       "       [551.86316],\n",
       "       [547.6319 ],\n",
       "       [544.6367 ],\n",
       "       [543.0955 ],\n",
       "       [541.8463 ],\n",
       "       [540.16754],\n",
       "       [537.6212 ],\n",
       "       [535.40594],\n",
       "       [534.08704],\n",
       "       [531.1871 ],\n",
       "       [528.99524],\n",
       "       [526.0645 ],\n",
       "       [523.3702 ],\n",
       "       [521.8898 ],\n",
       "       [520.5591 ],\n",
       "       [519.14404],\n",
       "       [518.02795],\n",
       "       [518.8841 ],\n",
       "       [520.0361 ],\n",
       "       [521.8485 ],\n",
       "       [523.5496 ],\n",
       "       [525.14417],\n",
       "       [526.68713],\n",
       "       [527.8935 ],\n",
       "       [528.3502 ],\n",
       "       [528.44006],\n",
       "       [527.1276 ],\n",
       "       [526.0078 ],\n",
       "       [525.0538 ],\n",
       "       [524.0066 ],\n",
       "       [522.23315],\n",
       "       [520.5275 ],\n",
       "       [519.21313],\n",
       "       [519.59283],\n",
       "       [519.68945],\n",
       "       [519.7582 ],\n",
       "       [520.5309 ],\n",
       "       [521.8177 ],\n",
       "       [522.7305 ],\n",
       "       [524.84924],\n",
       "       [527.72107],\n",
       "       [531.2764 ],\n",
       "       [535.8527 ],\n",
       "       [541.0958 ],\n",
       "       [546.10156],\n",
       "       [549.78314],\n",
       "       [553.12854],\n",
       "       [555.9599 ],\n",
       "       [559.18964],\n",
       "       [561.49365],\n",
       "       [562.50714],\n",
       "       [563.4881 ],\n",
       "       [564.47455],\n",
       "       [565.7733 ],\n",
       "       [567.96576],\n",
       "       [569.6704 ],\n",
       "       [569.4279 ],\n",
       "       [568.63416],\n",
       "       [567.4942 ],\n",
       "       [564.1611 ],\n",
       "       [560.0589 ],\n",
       "       [556.50037],\n",
       "       [553.69836],\n",
       "       [551.86194],\n",
       "       [550.7221 ],\n",
       "       [549.4128 ],\n",
       "       [548.61383],\n",
       "       [547.8174 ],\n",
       "       [546.5881 ],\n",
       "       [546.1233 ],\n",
       "       [546.9581 ],\n",
       "       [547.7308 ],\n",
       "       [548.349  ],\n",
       "       [548.3122 ],\n",
       "       [547.5654 ],\n",
       "       [546.37274],\n",
       "       [545.7505 ],\n",
       "       [545.6778 ],\n",
       "       [545.9864 ],\n",
       "       [546.80444],\n",
       "       [550.46643],\n",
       "       [555.32416],\n",
       "       [561.0054 ],\n",
       "       [566.4132 ],\n",
       "       [570.364  ],\n",
       "       [573.5446 ],\n",
       "       [577.0823 ],\n",
       "       [581.23694],\n",
       "       [585.5493 ],\n",
       "       [591.05255],\n",
       "       [597.21826],\n",
       "       [603.21405],\n",
       "       [610.4794 ],\n",
       "       [617.3103 ],\n",
       "       [622.1203 ],\n",
       "       [625.67395],\n",
       "       [627.0458 ],\n",
       "       [625.8901 ],\n",
       "       [624.4314 ],\n",
       "       [623.4027 ],\n",
       "       [623.0287 ],\n",
       "       [621.2478 ],\n",
       "       [618.85864],\n",
       "       [618.6619 ],\n",
       "       [619.69086],\n",
       "       [621.0664 ],\n",
       "       [622.4985 ],\n",
       "       [622.69476],\n",
       "       [624.2767 ],\n",
       "       [627.6024 ],\n",
       "       [631.6332 ],\n",
       "       [634.2949 ],\n",
       "       [640.0616 ],\n",
       "       [646.86676],\n",
       "       [652.45306],\n",
       "       [657.0172 ],\n",
       "       [659.869  ],\n",
       "       [661.39526],\n",
       "       [662.75946],\n",
       "       [664.3566 ],\n",
       "       [665.1579 ],\n",
       "       [666.7846 ],\n",
       "       [668.64545],\n",
       "       [668.6642 ],\n",
       "       [671.5015 ],\n",
       "       [676.4932 ],\n",
       "       [682.6868 ],\n",
       "       [688.2785 ],\n",
       "       [692.2905 ],\n",
       "       [696.5776 ],\n",
       "       [702.4229 ],\n",
       "       [706.9955 ],\n",
       "       [710.145  ],\n",
       "       [713.65015],\n",
       "       [714.29114],\n",
       "       [710.93146],\n",
       "       [707.0914 ],\n",
       "       [703.95435],\n",
       "       [700.3138 ],\n",
       "       [698.3126 ],\n",
       "       [700.32477],\n",
       "       [703.28784],\n",
       "       [707.4303 ],\n",
       "       [712.093  ],\n",
       "       [715.1984 ],\n",
       "       [716.9392 ],\n",
       "       [715.4123 ],\n",
       "       [712.1338 ],\n",
       "       [708.9958 ],\n",
       "       [707.1488 ],\n",
       "       [705.8043 ],\n",
       "       [702.11725],\n",
       "       [694.9835 ],\n",
       "       [687.1492 ],\n",
       "       [678.0543 ],\n",
       "       [670.8641 ],\n",
       "       [666.85474],\n",
       "       [664.96564],\n",
       "       [662.1189 ],\n",
       "       [659.4013 ],\n",
       "       [656.12915],\n",
       "       [652.1995 ],\n",
       "       [649.33606],\n",
       "       [645.45264],\n",
       "       [641.11597],\n",
       "       [637.9524 ],\n",
       "       [637.0122 ],\n",
       "       [638.2797 ],\n",
       "       [640.3357 ],\n",
       "       [642.40967],\n",
       "       [643.9576 ],\n",
       "       [645.0772 ],\n",
       "       [646.05676],\n",
       "       [645.62646],\n",
       "       [644.0396 ],\n",
       "       [641.34827],\n",
       "       [635.52966],\n",
       "       [627.3329 ],\n",
       "       [617.5126 ],\n",
       "       [607.95703],\n",
       "       [599.69775],\n",
       "       [592.4952 ],\n",
       "       [584.36975],\n",
       "       [577.6463 ],\n",
       "       [570.40247],\n",
       "       [564.4408 ],\n",
       "       [558.73895],\n",
       "       [540.1304 ],\n",
       "       [516.9339 ],\n",
       "       [491.47443],\n",
       "       [466.89807],\n",
       "       [448.57892],\n",
       "       [434.8092 ],\n",
       "       [429.84653],\n",
       "       [433.16565],\n",
       "       [436.74237],\n",
       "       [437.25217]], dtype=float32)"
      ]
     },
     "execution_count": 31,
     "metadata": {},
     "output_type": "execute_result"
    }
   ],
   "source": [
    "#get the model predicted values\n",
    "predictions=model.predict(x_test)\n",
    "predictions=scaler.inverse_transform(predictions)\n",
    "predictions"
   ]
  },
  {
   "cell_type": "code",
   "execution_count": 32,
   "id": "08968612",
   "metadata": {},
   "outputs": [
    {
     "data": {
      "text/plain": [
       "35.663497978603075"
      ]
     },
     "execution_count": 32,
     "metadata": {},
     "output_type": "execute_result"
    }
   ],
   "source": [
    "# get the root mean squared error(RMSE)\n",
    "rmse=np.sqrt(np.mean(predictions-y_test)**2)\n",
    "rmse"
   ]
  },
  {
   "cell_type": "code",
   "execution_count": 35,
   "id": "2fcd44c8",
   "metadata": {},
   "outputs": [
    {
     "name": "stderr",
     "output_type": "stream",
     "text": [
      "<ipython-input-35-b2687d28da4d>:4: SettingWithCopyWarning: \n",
      "A value is trying to be set on a copy of a slice from a DataFrame.\n",
      "Try using .loc[row_indexer,col_indexer] = value instead\n",
      "\n",
      "See the caveats in the documentation: https://pandas.pydata.org/pandas-docs/stable/user_guide/indexing.html#returning-a-view-versus-a-copy\n",
      "  valid['predictions']=predictions\n"
     ]
    },
    {
     "data": {
      "image/png": "[encoded data removed]",
      "text/plain": [
       "<Figure size 1152x576 with 1 Axes>"
      ]
     },
     "metadata": {},
     "output_type": "display_data"
    }
   ],
   "source": [
    "#plot the data\n",
    "train=data[:training_data_len]\n",
    "valid=data[training_data_len:]\n",
    "valid['predictions']=predictions\n",
    "#visualization of data\n",
    "plt.figure(figsize=(16,8))\n",
    "plt.title('Model')\n",
    "plt.xlabel('date',fontsize=18)\n",
    "plt.ylabel('close price',fontsize=18)\n",
    "plt.plot(train['Close'])\n",
    "plt.plot(valid[['Close','predictions']])\n",
    "plt.legend(['train','valid','prediction'],loc='lower right')\n",
    "plt.show()"
   ]
  },
  {
   "cell_type": "code",
   "execution_count": 34,
   "id": "43613750",
   "metadata": {},
   "outputs": [
    {
     "data": {
      "text/html": [
       "<div>\n",
       "<style scoped>\n",
       "    .dataframe tbody tr th:only-of-type {\n",
       "        vertical-align: middle;\n",
       "    }\n",
       "\n",
       "    .dataframe tbody tr th {\n",
       "        vertical-align: top;\n",
       "    }\n",
       "\n",
       "    .dataframe thead th {\n",
       "        text-align: right;\n",
       "    }\n",
       "</style>\n",
       "<table border=\"1\" class=\"dataframe\">\n",
       "  <thead>\n",
       "    <tr style=\"text-align: right;\">\n",
       "      <th></th>\n",
       "      <th>Close</th>\n",
       "      <th>predictions</th>\n",
       "    </tr>\n",
       "  </thead>\n",
       "  <tbody>\n",
       "    <tr>\n",
       "      <th>808</th>\n",
       "      <td>508.779999</td>\n",
       "      <td>576.116882</td>\n",
       "    </tr>\n",
       "    <tr>\n",
       "      <th>809</th>\n",
       "      <td>505.549988</td>\n",
       "      <td>569.740479</td>\n",
       "    </tr>\n",
       "    <tr>\n",
       "      <th>810</th>\n",
       "      <td>510.299988</td>\n",
       "      <td>562.851868</td>\n",
       "    </tr>\n",
       "    <tr>\n",
       "      <th>811</th>\n",
       "      <td>505.549988</td>\n",
       "      <td>557.086243</td>\n",
       "    </tr>\n",
       "    <tr>\n",
       "      <th>812</th>\n",
       "      <td>506.519989</td>\n",
       "      <td>551.863159</td>\n",
       "    </tr>\n",
       "    <tr>\n",
       "      <th>...</th>\n",
       "      <td>...</td>\n",
       "      <td>...</td>\n",
       "    </tr>\n",
       "    <tr>\n",
       "      <th>1004</th>\n",
       "      <td>427.140015</td>\n",
       "      <td>434.809204</td>\n",
       "    </tr>\n",
       "    <tr>\n",
       "      <th>1005</th>\n",
       "      <td>457.130005</td>\n",
       "      <td>429.846527</td>\n",
       "    </tr>\n",
       "    <tr>\n",
       "      <th>1006</th>\n",
       "      <td>429.480011</td>\n",
       "      <td>433.165649</td>\n",
       "    </tr>\n",
       "    <tr>\n",
       "      <th>1007</th>\n",
       "      <td>405.600006</td>\n",
       "      <td>436.742371</td>\n",
       "    </tr>\n",
       "    <tr>\n",
       "      <th>1008</th>\n",
       "      <td>410.170013</td>\n",
       "      <td>437.252167</td>\n",
       "    </tr>\n",
       "  </tbody>\n",
       "</table>\n",
       "<p>201 rows × 2 columns</p>\n",
       "</div>"
      ],
      "text/plain": [
       "           Close  predictions\n",
       "808   508.779999   576.116882\n",
       "809   505.549988   569.740479\n",
       "810   510.299988   562.851868\n",
       "811   505.549988   557.086243\n",
       "812   506.519989   551.863159\n",
       "...          ...          ...\n",
       "1004  427.140015   434.809204\n",
       "1005  457.130005   429.846527\n",
       "1006  429.480011   433.165649\n",
       "1007  405.600006   436.742371\n",
       "1008  410.170013   437.252167\n",
       "\n",
       "[201 rows x 2 columns]"
      ]
     },
     "execution_count": 34,
     "metadata": {},
     "output_type": "execute_result"
    }
   ],
   "source": [
    "valid #This shows the valid and actual prices"
   ]
  }
 ],
 "metadata": {
  "kernelspec": {
   "display_name": "Python 3",
   "language": "python",
   "name": "python3"
  },
  "language_info": {
   "codemirror_mode": {
    "name": "ipython",
    "version": 3
   },
   "file_extension": ".py",
   "mimetype": "text/x-python",
   "name": "python",
   "nbconvert_exporter": "python",
   "pygments_lexer": "ipython3",
   "version": "3.8.8"
  }
 },
 "nbformat": 4,
 "nbformat_minor": 5
}
